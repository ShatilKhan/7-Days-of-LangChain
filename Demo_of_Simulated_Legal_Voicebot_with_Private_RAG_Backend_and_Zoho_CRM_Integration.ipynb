{
  "nbformat": 4,
  "nbformat_minor": 0,
  "metadata": {
    "colab": {
      "provenance": [],
      "authorship_tag": "ABX9TyOIEVO8/P18ycdrAV6t0CgV",
      "include_colab_link": true
    },
    "kernelspec": {
      "name": "python3",
      "display_name": "Python 3"
    },
    "language_info": {
      "name": "python"
    }
  },
  "cells": [
    {
      "cell_type": "markdown",
      "metadata": {
        "id": "view-in-github",
        "colab_type": "text"
      },
      "source": [
        "<a href=\"https://colab.research.google.com/github/ShatilKhan/7-Days-of-LangChain/blob/main/Demo_of_Simulated_Legal_Voicebot_with_Private_RAG_Backend_and_Zoho_CRM_Integration.ipynb\" target=\"_parent\"><img src=\"https://colab.research.google.com/assets/colab-badge.svg\" alt=\"Open In Colab\"/></a>"
      ]
    },
    {
      "cell_type": "markdown",
      "source": [
        "Setup and Library Installation\n",
        "\n",
        "First, install necessary libraries and initialize the language model and vector database. We use Hugging Face Transformers and ChromaDB for the RAG backend."
      ],
      "metadata": {
        "id": "IGbr_P8gUH2E"
      }
    },
    {
      "cell_type": "code",
      "execution_count": 5,
      "metadata": {
        "colab": {
          "base_uri": "https://localhost:8080/"
        },
        "id": "crPrcbilUHav",
        "outputId": "0b43c32c-e571-4202-8064-d8b6a83c1757"
      },
      "outputs": [
        {
          "output_type": "stream",
          "name": "stdout",
          "text": [
            "Requirement already satisfied: transformers in /usr/local/lib/python3.12/dist-packages (4.56.2)\n",
            "Requirement already satisfied: chromadb in /usr/local/lib/python3.12/dist-packages (1.1.1)\n",
            "Requirement already satisfied: sentence_transformers in /usr/local/lib/python3.12/dist-packages (5.1.1)\n",
            "Requirement already satisfied: filelock in /usr/local/lib/python3.12/dist-packages (from transformers) (3.19.1)\n",
            "Requirement already satisfied: huggingface-hub<1.0,>=0.34.0 in /usr/local/lib/python3.12/dist-packages (from transformers) (0.35.3)\n",
            "Requirement already satisfied: numpy>=1.17 in /usr/local/lib/python3.12/dist-packages (from transformers) (2.0.2)\n",
            "Requirement already satisfied: packaging>=20.0 in /usr/local/lib/python3.12/dist-packages (from transformers) (25.0)\n",
            "Requirement already satisfied: pyyaml>=5.1 in /usr/local/lib/python3.12/dist-packages (from transformers) (6.0.3)\n",
            "Requirement already satisfied: regex!=2019.12.17 in /usr/local/lib/python3.12/dist-packages (from transformers) (2024.11.6)\n",
            "Requirement already satisfied: requests in /usr/local/lib/python3.12/dist-packages (from transformers) (2.32.4)\n",
            "Requirement already satisfied: tokenizers<=0.23.0,>=0.22.0 in /usr/local/lib/python3.12/dist-packages (from transformers) (0.22.1)\n",
            "Requirement already satisfied: safetensors>=0.4.3 in /usr/local/lib/python3.12/dist-packages (from transformers) (0.6.2)\n",
            "Requirement already satisfied: tqdm>=4.27 in /usr/local/lib/python3.12/dist-packages (from transformers) (4.67.1)\n",
            "Requirement already satisfied: build>=1.0.3 in /usr/local/lib/python3.12/dist-packages (from chromadb) (1.3.0)\n",
            "Requirement already satisfied: pydantic>=1.9 in /usr/local/lib/python3.12/dist-packages (from chromadb) (2.11.9)\n",
            "Requirement already satisfied: pybase64>=1.4.1 in /usr/local/lib/python3.12/dist-packages (from chromadb) (1.4.2)\n",
            "Requirement already satisfied: uvicorn>=0.18.3 in /usr/local/lib/python3.12/dist-packages (from uvicorn[standard]>=0.18.3->chromadb) (0.37.0)\n",
            "Requirement already satisfied: posthog<6.0.0,>=2.4.0 in /usr/local/lib/python3.12/dist-packages (from chromadb) (5.4.0)\n",
            "Requirement already satisfied: typing-extensions>=4.5.0 in /usr/local/lib/python3.12/dist-packages (from chromadb) (4.15.0)\n",
            "Requirement already satisfied: onnxruntime>=1.14.1 in /usr/local/lib/python3.12/dist-packages (from chromadb) (1.23.0)\n",
            "Requirement already satisfied: opentelemetry-api>=1.2.0 in /usr/local/lib/python3.12/dist-packages (from chromadb) (1.37.0)\n",
            "Requirement already satisfied: opentelemetry-exporter-otlp-proto-grpc>=1.2.0 in /usr/local/lib/python3.12/dist-packages (from chromadb) (1.37.0)\n",
            "Requirement already satisfied: opentelemetry-sdk>=1.2.0 in /usr/local/lib/python3.12/dist-packages (from chromadb) (1.37.0)\n",
            "Requirement already satisfied: pypika>=0.48.9 in /usr/local/lib/python3.12/dist-packages (from chromadb) (0.48.9)\n",
            "Requirement already satisfied: overrides>=7.3.1 in /usr/local/lib/python3.12/dist-packages (from chromadb) (7.7.0)\n",
            "Requirement already satisfied: importlib-resources in /usr/local/lib/python3.12/dist-packages (from chromadb) (6.5.2)\n",
            "Requirement already satisfied: grpcio>=1.58.0 in /usr/local/lib/python3.12/dist-packages (from chromadb) (1.75.1)\n",
            "Requirement already satisfied: bcrypt>=4.0.1 in /usr/local/lib/python3.12/dist-packages (from chromadb) (5.0.0)\n",
            "Requirement already satisfied: typer>=0.9.0 in /usr/local/lib/python3.12/dist-packages (from chromadb) (0.19.2)\n",
            "Requirement already satisfied: kubernetes>=28.1.0 in /usr/local/lib/python3.12/dist-packages (from chromadb) (34.1.0)\n",
            "Requirement already satisfied: tenacity>=8.2.3 in /usr/local/lib/python3.12/dist-packages (from chromadb) (8.5.0)\n",
            "Requirement already satisfied: mmh3>=4.0.1 in /usr/local/lib/python3.12/dist-packages (from chromadb) (5.2.0)\n",
            "Requirement already satisfied: orjson>=3.9.12 in /usr/local/lib/python3.12/dist-packages (from chromadb) (3.11.3)\n",
            "Requirement already satisfied: httpx>=0.27.0 in /usr/local/lib/python3.12/dist-packages (from chromadb) (0.28.1)\n",
            "Requirement already satisfied: rich>=10.11.0 in /usr/local/lib/python3.12/dist-packages (from chromadb) (13.9.4)\n",
            "Requirement already satisfied: jsonschema>=4.19.0 in /usr/local/lib/python3.12/dist-packages (from chromadb) (4.25.1)\n",
            "Requirement already satisfied: torch>=1.11.0 in /usr/local/lib/python3.12/dist-packages (from sentence_transformers) (2.8.0+cu126)\n",
            "Requirement already satisfied: scikit-learn in /usr/local/lib/python3.12/dist-packages (from sentence_transformers) (1.6.1)\n",
            "Requirement already satisfied: scipy in /usr/local/lib/python3.12/dist-packages (from sentence_transformers) (1.16.2)\n",
            "Requirement already satisfied: Pillow in /usr/local/lib/python3.12/dist-packages (from sentence_transformers) (11.3.0)\n",
            "Requirement already satisfied: pyproject_hooks in /usr/local/lib/python3.12/dist-packages (from build>=1.0.3->chromadb) (1.2.0)\n",
            "Requirement already satisfied: anyio in /usr/local/lib/python3.12/dist-packages (from httpx>=0.27.0->chromadb) (4.11.0)\n",
            "Requirement already satisfied: certifi in /usr/local/lib/python3.12/dist-packages (from httpx>=0.27.0->chromadb) (2025.8.3)\n",
            "Requirement already satisfied: httpcore==1.* in /usr/local/lib/python3.12/dist-packages (from httpx>=0.27.0->chromadb) (1.0.9)\n",
            "Requirement already satisfied: idna in /usr/local/lib/python3.12/dist-packages (from httpx>=0.27.0->chromadb) (3.10)\n",
            "Requirement already satisfied: h11>=0.16 in /usr/local/lib/python3.12/dist-packages (from httpcore==1.*->httpx>=0.27.0->chromadb) (0.16.0)\n",
            "Requirement already satisfied: fsspec>=2023.5.0 in /usr/local/lib/python3.12/dist-packages (from huggingface-hub<1.0,>=0.34.0->transformers) (2025.3.0)\n",
            "Requirement already satisfied: hf-xet<2.0.0,>=1.1.3 in /usr/local/lib/python3.12/dist-packages (from huggingface-hub<1.0,>=0.34.0->transformers) (1.1.10)\n",
            "Requirement already satisfied: attrs>=22.2.0 in /usr/local/lib/python3.12/dist-packages (from jsonschema>=4.19.0->chromadb) (25.3.0)\n",
            "Requirement already satisfied: jsonschema-specifications>=2023.03.6 in /usr/local/lib/python3.12/dist-packages (from jsonschema>=4.19.0->chromadb) (2025.9.1)\n",
            "Requirement already satisfied: referencing>=0.28.4 in /usr/local/lib/python3.12/dist-packages (from jsonschema>=4.19.0->chromadb) (0.36.2)\n",
            "Requirement already satisfied: rpds-py>=0.7.1 in /usr/local/lib/python3.12/dist-packages (from jsonschema>=4.19.0->chromadb) (0.27.1)\n",
            "Requirement already satisfied: six>=1.9.0 in /usr/local/lib/python3.12/dist-packages (from kubernetes>=28.1.0->chromadb) (1.17.0)\n",
            "Requirement already satisfied: python-dateutil>=2.5.3 in /usr/local/lib/python3.12/dist-packages (from kubernetes>=28.1.0->chromadb) (2.9.0.post0)\n",
            "Requirement already satisfied: google-auth>=1.0.1 in /usr/local/lib/python3.12/dist-packages (from kubernetes>=28.1.0->chromadb) (2.38.0)\n",
            "Requirement already satisfied: websocket-client!=0.40.0,!=0.41.*,!=0.42.*,>=0.32.0 in /usr/local/lib/python3.12/dist-packages (from kubernetes>=28.1.0->chromadb) (1.8.0)\n",
            "Requirement already satisfied: requests-oauthlib in /usr/local/lib/python3.12/dist-packages (from kubernetes>=28.1.0->chromadb) (2.0.0)\n",
            "Requirement already satisfied: urllib3<2.4.0,>=1.24.2 in /usr/local/lib/python3.12/dist-packages (from kubernetes>=28.1.0->chromadb) (2.3.0)\n",
            "Requirement already satisfied: durationpy>=0.7 in /usr/local/lib/python3.12/dist-packages (from kubernetes>=28.1.0->chromadb) (0.10)\n",
            "Requirement already satisfied: coloredlogs in /usr/local/lib/python3.12/dist-packages (from onnxruntime>=1.14.1->chromadb) (15.0.1)\n",
            "Requirement already satisfied: flatbuffers in /usr/local/lib/python3.12/dist-packages (from onnxruntime>=1.14.1->chromadb) (25.9.23)\n",
            "Requirement already satisfied: protobuf in /usr/local/lib/python3.12/dist-packages (from onnxruntime>=1.14.1->chromadb) (5.29.5)\n",
            "Requirement already satisfied: sympy in /usr/local/lib/python3.12/dist-packages (from onnxruntime>=1.14.1->chromadb) (1.13.3)\n",
            "Requirement already satisfied: importlib-metadata<8.8.0,>=6.0 in /usr/local/lib/python3.12/dist-packages (from opentelemetry-api>=1.2.0->chromadb) (8.7.0)\n",
            "Requirement already satisfied: googleapis-common-protos~=1.57 in /usr/local/lib/python3.12/dist-packages (from opentelemetry-exporter-otlp-proto-grpc>=1.2.0->chromadb) (1.70.0)\n",
            "Requirement already satisfied: opentelemetry-exporter-otlp-proto-common==1.37.0 in /usr/local/lib/python3.12/dist-packages (from opentelemetry-exporter-otlp-proto-grpc>=1.2.0->chromadb) (1.37.0)\n",
            "Requirement already satisfied: opentelemetry-proto==1.37.0 in /usr/local/lib/python3.12/dist-packages (from opentelemetry-exporter-otlp-proto-grpc>=1.2.0->chromadb) (1.37.0)\n",
            "Requirement already satisfied: opentelemetry-semantic-conventions==0.58b0 in /usr/local/lib/python3.12/dist-packages (from opentelemetry-sdk>=1.2.0->chromadb) (0.58b0)\n",
            "Requirement already satisfied: backoff>=1.10.0 in /usr/local/lib/python3.12/dist-packages (from posthog<6.0.0,>=2.4.0->chromadb) (2.2.1)\n",
            "Requirement already satisfied: distro>=1.5.0 in /usr/local/lib/python3.12/dist-packages (from posthog<6.0.0,>=2.4.0->chromadb) (1.9.0)\n",
            "Requirement already satisfied: annotated-types>=0.6.0 in /usr/local/lib/python3.12/dist-packages (from pydantic>=1.9->chromadb) (0.7.0)\n",
            "Requirement already satisfied: pydantic-core==2.33.2 in /usr/local/lib/python3.12/dist-packages (from pydantic>=1.9->chromadb) (2.33.2)\n",
            "Requirement already satisfied: typing-inspection>=0.4.0 in /usr/local/lib/python3.12/dist-packages (from pydantic>=1.9->chromadb) (0.4.2)\n",
            "Requirement already satisfied: charset_normalizer<4,>=2 in /usr/local/lib/python3.12/dist-packages (from requests->transformers) (3.4.3)\n",
            "Requirement already satisfied: markdown-it-py>=2.2.0 in /usr/local/lib/python3.12/dist-packages (from rich>=10.11.0->chromadb) (4.0.0)\n",
            "Requirement already satisfied: pygments<3.0.0,>=2.13.0 in /usr/local/lib/python3.12/dist-packages (from rich>=10.11.0->chromadb) (2.19.2)\n",
            "Requirement already satisfied: setuptools in /usr/local/lib/python3.12/dist-packages (from torch>=1.11.0->sentence_transformers) (75.2.0)\n",
            "Requirement already satisfied: networkx in /usr/local/lib/python3.12/dist-packages (from torch>=1.11.0->sentence_transformers) (3.5)\n",
            "Requirement already satisfied: jinja2 in /usr/local/lib/python3.12/dist-packages (from torch>=1.11.0->sentence_transformers) (3.1.6)\n",
            "Requirement already satisfied: nvidia-cuda-nvrtc-cu12==12.6.77 in /usr/local/lib/python3.12/dist-packages (from torch>=1.11.0->sentence_transformers) (12.6.77)\n",
            "Requirement already satisfied: nvidia-cuda-runtime-cu12==12.6.77 in /usr/local/lib/python3.12/dist-packages (from torch>=1.11.0->sentence_transformers) (12.6.77)\n",
            "Requirement already satisfied: nvidia-cuda-cupti-cu12==12.6.80 in /usr/local/lib/python3.12/dist-packages (from torch>=1.11.0->sentence_transformers) (12.6.80)\n",
            "Requirement already satisfied: nvidia-cudnn-cu12==9.10.2.21 in /usr/local/lib/python3.12/dist-packages (from torch>=1.11.0->sentence_transformers) (9.10.2.21)\n",
            "Requirement already satisfied: nvidia-cublas-cu12==12.6.4.1 in /usr/local/lib/python3.12/dist-packages (from torch>=1.11.0->sentence_transformers) (12.6.4.1)\n",
            "Requirement already satisfied: nvidia-cufft-cu12==11.3.0.4 in /usr/local/lib/python3.12/dist-packages (from torch>=1.11.0->sentence_transformers) (11.3.0.4)\n",
            "Requirement already satisfied: nvidia-curand-cu12==10.3.7.77 in /usr/local/lib/python3.12/dist-packages (from torch>=1.11.0->sentence_transformers) (10.3.7.77)\n",
            "Requirement already satisfied: nvidia-cusolver-cu12==11.7.1.2 in /usr/local/lib/python3.12/dist-packages (from torch>=1.11.0->sentence_transformers) (11.7.1.2)\n",
            "Requirement already satisfied: nvidia-cusparse-cu12==12.5.4.2 in /usr/local/lib/python3.12/dist-packages (from torch>=1.11.0->sentence_transformers) (12.5.4.2)\n",
            "Requirement already satisfied: nvidia-cusparselt-cu12==0.7.1 in /usr/local/lib/python3.12/dist-packages (from torch>=1.11.0->sentence_transformers) (0.7.1)\n",
            "Requirement already satisfied: nvidia-nccl-cu12==2.27.3 in /usr/local/lib/python3.12/dist-packages (from torch>=1.11.0->sentence_transformers) (2.27.3)\n",
            "Requirement already satisfied: nvidia-nvtx-cu12==12.6.77 in /usr/local/lib/python3.12/dist-packages (from torch>=1.11.0->sentence_transformers) (12.6.77)\n",
            "Requirement already satisfied: nvidia-nvjitlink-cu12==12.6.85 in /usr/local/lib/python3.12/dist-packages (from torch>=1.11.0->sentence_transformers) (12.6.85)\n",
            "Requirement already satisfied: nvidia-cufile-cu12==1.11.1.6 in /usr/local/lib/python3.12/dist-packages (from torch>=1.11.0->sentence_transformers) (1.11.1.6)\n",
            "Requirement already satisfied: triton==3.4.0 in /usr/local/lib/python3.12/dist-packages (from torch>=1.11.0->sentence_transformers) (3.4.0)\n",
            "Requirement already satisfied: click>=8.0.0 in /usr/local/lib/python3.12/dist-packages (from typer>=0.9.0->chromadb) (8.3.0)\n",
            "Requirement already satisfied: shellingham>=1.3.0 in /usr/local/lib/python3.12/dist-packages (from typer>=0.9.0->chromadb) (1.5.4)\n",
            "Requirement already satisfied: httptools>=0.6.3 in /usr/local/lib/python3.12/dist-packages (from uvicorn[standard]>=0.18.3->chromadb) (0.6.4)\n",
            "Requirement already satisfied: python-dotenv>=0.13 in /usr/local/lib/python3.12/dist-packages (from uvicorn[standard]>=0.18.3->chromadb) (1.1.1)\n",
            "Requirement already satisfied: uvloop>=0.15.1 in /usr/local/lib/python3.12/dist-packages (from uvicorn[standard]>=0.18.3->chromadb) (0.21.0)\n",
            "Requirement already satisfied: watchfiles>=0.13 in /usr/local/lib/python3.12/dist-packages (from uvicorn[standard]>=0.18.3->chromadb) (1.1.0)\n",
            "Requirement already satisfied: websockets>=10.4 in /usr/local/lib/python3.12/dist-packages (from uvicorn[standard]>=0.18.3->chromadb) (15.0.1)\n",
            "Requirement already satisfied: joblib>=1.2.0 in /usr/local/lib/python3.12/dist-packages (from scikit-learn->sentence_transformers) (1.5.2)\n",
            "Requirement already satisfied: threadpoolctl>=3.1.0 in /usr/local/lib/python3.12/dist-packages (from scikit-learn->sentence_transformers) (3.6.0)\n",
            "Requirement already satisfied: cachetools<6.0,>=2.0.0 in /usr/local/lib/python3.12/dist-packages (from google-auth>=1.0.1->kubernetes>=28.1.0->chromadb) (5.5.2)\n",
            "Requirement already satisfied: pyasn1-modules>=0.2.1 in /usr/local/lib/python3.12/dist-packages (from google-auth>=1.0.1->kubernetes>=28.1.0->chromadb) (0.4.2)\n",
            "Requirement already satisfied: rsa<5,>=3.1.4 in /usr/local/lib/python3.12/dist-packages (from google-auth>=1.0.1->kubernetes>=28.1.0->chromadb) (4.9.1)\n",
            "Requirement already satisfied: zipp>=3.20 in /usr/local/lib/python3.12/dist-packages (from importlib-metadata<8.8.0,>=6.0->opentelemetry-api>=1.2.0->chromadb) (3.23.0)\n",
            "Requirement already satisfied: mdurl~=0.1 in /usr/local/lib/python3.12/dist-packages (from markdown-it-py>=2.2.0->rich>=10.11.0->chromadb) (0.1.2)\n",
            "Requirement already satisfied: mpmath<1.4,>=1.1.0 in /usr/local/lib/python3.12/dist-packages (from sympy->onnxruntime>=1.14.1->chromadb) (1.3.0)\n",
            "Requirement already satisfied: sniffio>=1.1 in /usr/local/lib/python3.12/dist-packages (from anyio->httpx>=0.27.0->chromadb) (1.3.1)\n",
            "Requirement already satisfied: humanfriendly>=9.1 in /usr/local/lib/python3.12/dist-packages (from coloredlogs->onnxruntime>=1.14.1->chromadb) (10.0)\n",
            "Requirement already satisfied: MarkupSafe>=2.0 in /usr/local/lib/python3.12/dist-packages (from jinja2->torch>=1.11.0->sentence_transformers) (3.0.3)\n",
            "Requirement already satisfied: oauthlib>=3.0.0 in /usr/local/lib/python3.12/dist-packages (from requests-oauthlib->kubernetes>=28.1.0->chromadb) (3.3.1)\n",
            "Requirement already satisfied: pyasn1<0.7.0,>=0.6.1 in /usr/local/lib/python3.12/dist-packages (from pyasn1-modules>=0.2.1->google-auth>=1.0.1->kubernetes>=28.1.0->chromadb) (0.6.1)\n"
          ]
        }
      ],
      "source": [
        "!pip install transformers chromadb sentence_transformers\n",
        "# Note: Installing libraries might take a minute.\n",
        "import chromadb\n",
        "from transformers import pipeline\n",
        "from sentence_transformers import SentenceTransformer\n"
      ]
    },
    {
      "cell_type": "markdown",
      "source": [
        "Knowledge Base Ingestion and Vector Store Initialization\n",
        "\n",
        "Next, we simulate ingesting a private legal document into an in-memory vector store (ChromaDB). We create a couple of mock legal documents (for example, one about landlord-tenant law and another about contract law) to serve as our knowledge base. These documents will be embedded into vectors using a pre-trained model and stored in ChromaDB for efficient similarity search"
      ],
      "metadata": {
        "id": "2qg2LtOMUTTF"
      }
    },
    {
      "cell_type": "code",
      "source": [
        "# Prepare mock legal documents\n",
        "doc1_text = \"\"\"Landlord-Tenant Law:\n",
        "If a tenant does not pay rent, the landlord can serve a notice to pay or quit. If the tenant still fails to pay,\n",
        "the landlord may initiate eviction proceedings according to local housing laws. Tenants have the right to respond\n",
        "to an eviction notice in court. For serious lease violations or illegal behavior, an unconditional quit notice may be served.\"\"\"\n",
        "\n",
        "doc2_text = \"\"\"Contract Law:\n",
        "When one party breaches a contract, the other party may seek remedies such as damages or specific performance.\n",
        "A material breach allows the non-breaching party to terminate the contract and sue for damages. Contracts require\n",
        "offer, acceptance, and consideration to be valid. Certain contracts must be in writing under the Statute of Frauds.\"\"\"\n",
        "\n",
        "# Initialize embedding model (MiniLM for embeddings)\n",
        "embed_model = SentenceTransformer('all-MiniLM-L6-v2')  # Downloads model if not already available\n",
        "\n",
        "# Initialize ChromaDB in-memory client and collection\n",
        "client = chromadb.Client()\n",
        "\n",
        "# Check if the collection exists and delete it if it does\n",
        "try:\n",
        "    client.delete_collection(name=\"legal_knowledge\")\n",
        "    print(\"Deleted existing collection 'legal_knowledge'\")\n",
        "except:\n",
        "    print(\"Collection 'legal_knowledge' did not exist, creating a new one.\")\n",
        "\n",
        "\n",
        "collection = client.create_collection(name=\"legal_knowledge\")\n",
        "\n",
        "# Embed the documents and add them to the Chroma collection\n",
        "docs = [doc1_text, doc2_text]\n",
        "doc_ids = [\"doc1\", \"doc2\"]\n",
        "embeddings = embed_model.encode(docs).tolist()  # Convert NumPy array to list for Chroma\n",
        "\n",
        "collection.add(documents=docs, ids=doc_ids, embeddings=embeddings)\n",
        "print(f\"Indexed {len(docs)} documents in the vector store: {doc_ids}\")"
      ],
      "metadata": {
        "colab": {
          "base_uri": "https://localhost:8080/"
        },
        "id": "wI9xeVWXUaeu",
        "outputId": "e9c82981-b432-457e-f5f7-d41ac0821150"
      },
      "execution_count": 8,
      "outputs": [
        {
          "output_type": "stream",
          "name": "stdout",
          "text": [
            "Deleted existing collection 'legal_knowledge'\n",
            "Indexed 2 documents in the vector store: ['doc1', 'doc2']\n"
          ]
        }
      ]
    },
    {
      "cell_type": "markdown",
      "source": [
        "Retrieval-Augmented QA Pipeline Setup\n",
        "\n",
        "With the documents indexed, we set up a retrieval function and a QA pipeline. The retrieval function will query the Chroma vector store for relevant document snippets given a user question. We then feed the question and retrieved context into an open-source QA model to simulate the LLM's answer generation. In a real system, this could be a larger language model (e.g., Mistral-7B or Llama 2) generating a detailed answer from the context. For this demo, we use a smaller pre-trained question-answering model for simplicity"
      ],
      "metadata": {
        "id": "UcklBL7hUdPY"
      }
    },
    {
      "cell_type": "code",
      "source": [
        "# Define a retrieval function using the vector store\n",
        "def retrieve_context(question, top_k=1):\n",
        "    # Embed the question using the same model\n",
        "    q_emb = embed_model.encode([question]).tolist()\n",
        "    # Query Chroma for similar documents (most relevant context)\n",
        "    results = collection.query(query_embeddings=q_emb, n_results=top_k)\n",
        "    if results.get('documents'):\n",
        "        # Join retrieved documents into one context string\n",
        "        context = \"\\n\".join(results['documents'][0])\n",
        "    else:\n",
        "        context = \"\"\n",
        "    return context\n",
        "\n",
        "# Initialize a question-answering pipeline (using a smaller model for demo; can use larger LLM in practice)\n",
        "qa_pipeline = pipeline(\"question-answering\", model=\"deepset/roberta-base-squad2\")\n",
        "\n",
        "# Test the RAG pipeline with a sample question\n",
        "sample_question = \"What can I do if my tenant refuses to pay rent?\"\n",
        "print(f\"User question: {sample_question}\")\n",
        "# Retrieve relevant context from the knowledge base\n",
        "context = retrieve_context(sample_question, top_k=1)\n",
        "print(\"Retrieved context:\\n\", context)\n",
        "# Generate an answer using the QA model (LLM)\n",
        "if context:\n",
        "    result = qa_pipeline({\"question\": sample_question, \"context\": context})\n",
        "    print(\"LLM Answer:\", result['answer'])\n",
        "else:\n",
        "    print(\"LLM Answer: [No relevant information found in knowledge base]\")\n"
      ],
      "metadata": {
        "colab": {
          "base_uri": "https://localhost:8080/"
        },
        "id": "caiKf313UjI7",
        "outputId": "dad3599b-b7a9-4b80-d839-dbb53885a313"
      },
      "execution_count": 9,
      "outputs": [
        {
          "output_type": "stream",
          "name": "stderr",
          "text": [
            "Device set to use cpu\n",
            "/usr/local/lib/python3.12/dist-packages/transformers/pipelines/question_answering.py:395: FutureWarning: Passing a list of SQuAD examples to the pipeline is deprecated and will be removed in v5. Inputs should be passed using the `question` and `context` keyword arguments instead.\n",
            "  warnings.warn(\n"
          ]
        },
        {
          "output_type": "stream",
          "name": "stdout",
          "text": [
            "User question: What can I do if my tenant refuses to pay rent?\n",
            "Retrieved context:\n",
            " Landlord-Tenant Law:\n",
            "If a tenant does not pay rent, the landlord can serve a notice to pay or quit. If the tenant still fails to pay,\n",
            "the landlord may initiate eviction proceedings according to local housing laws. Tenants have the right to respond\n",
            "to an eviction notice in court. For serious lease violations or illegal behavior, an unconditional quit notice may be served.\n",
            "LLM Answer: serve a notice to pay or quit\n"
          ]
        }
      ]
    },
    {
      "cell_type": "markdown",
      "source": [
        "Simulating the Voice Call Flow with State Machine\n",
        "\n",
        "Now that the backend QA system is ready, we simulate a phone call conversation using a simple state machine to manage the flow. The state machine will handle:\n",
        "\n",
        "Call initiation: Simulate an incoming call via Twilio.\n",
        "\n",
        "Greeting: The bot greets the user and prompts for their question.\n",
        "\n",
        "Listening: Simulate capturing the user's question via ASR (Automatic Speech Recognition).\n",
        "\n",
        "Answering: Retrieve and generate the answer using our RAG backend.\n",
        "\n",
        "Responding: Output the answer via TTS (Text-to-Speech) simulation.\n",
        "\n",
        "Lead Qualification: Decide if the call should be treated as a sales lead (e.g., the user has a legal issue that warrants follow-up).\n",
        "\n",
        "CRM Integration: If qualified, create a lead in Zoho CRM, update its status, and trigger an outbound follow-up call.\n",
        "\n",
        "Call termination: End the call after the interaction.\n",
        "\n",
        "We use placeholder functions to simulate ASR and TTS. Twilio call events (like starting a call or receiving audio) are represented by print statements to mimic real-time WebSocket events. The state machine logic logs each step of the conversation and integration clearly."
      ],
      "metadata": {
        "id": "EfSabD2yUpGC"
      }
    },
    {
      "cell_type": "code",
      "source": [
        "# Placeholder functions for ASR and TTS simulation\n",
        "def simulate_asr(audio_stream_data):\n",
        "    \"\"\"\n",
        "    Simulate ASR by returning transcribed text for given audio data.\n",
        "    In this demo, we ignore the actual audio and return a preset example question.\n",
        "    \"\"\"\n",
        "    transcribed_text = \"What can I do if my tenant refuses to pay rent?\"\n",
        "    print(f\"[Simulated ASR]: {transcribed_text}\")\n",
        "    return transcribed_text\n",
        "\n",
        "def simulate_tts(text):\n",
        "    \"\"\"\n",
        "    Simulate TTS by 'speaking' the text.\n",
        "    Here we just print the text to represent the voicebot's spoken response.\n",
        "    \"\"\"\n",
        "    print(f\"[Bot Voice]: {text}\")\n",
        "\n",
        "# Placeholder functions for Twilio and CRM interactions\n",
        "def twilio_start_call(from_number):\n",
        "    print(f\"Twilio Event: Incoming call from {from_number}. Starting voice stream...\")\n",
        "\n",
        "def twilio_end_call():\n",
        "    print(\"Twilio Event: Call has ended.\")\n",
        "\n",
        "def twilio_outbound_call(to_number):\n",
        "    print(f\"Twilio Event: Initiating outbound call to {to_number} for follow-up.\")\n",
        "\n",
        "def zoho_create_lead(lead_data):\n",
        "    print(f\"Zoho CRM API: Creating new lead with data: {lead_data}\")\n",
        "    # Simulate API response with a new Lead ID\n",
        "    response = {\"status\": \"success\", \"lead_id\": \"LEAD12345\"}\n",
        "    print(f\"Zoho CRM API Response: {{'status': '{response['status']}', 'lead_id': '{response['lead_id']}'}}\")\n",
        "    return response[\"lead_id\"]\n",
        "\n",
        "def zoho_update_lead(lead_id, update_data):\n",
        "    print(f\"Zoho CRM API: Updating lead {lead_id} with data: {update_data}\")\n",
        "    # Simulate API response for the update\n",
        "    print(f\"Zoho CRM API Response: {{'status': 'success', 'updated_fields': {list(update_data.keys())}}}\")\n",
        "\n",
        "# Simulate an incoming call and conversation flow\n",
        "caller_number = \"+1-202-555-0136\"  # Example caller ID\n",
        "twilio_start_call(caller_number)\n",
        "\n",
        "# State machine for call flow\n",
        "state = \"greeting\"\n",
        "lead_id = None\n",
        "user_question = None\n",
        "\n",
        "while True:\n",
        "    if state == \"greeting\":\n",
        "        # Bot greets the user\n",
        "        simulate_tts(\"Hello, thank you for calling LegalAssist. How can I help you today?\")\n",
        "        # Move to listening state to get the user's question\n",
        "        state = \"listening\"\n",
        "\n",
        "    elif state == \"listening\":\n",
        "        # Simulate receiving audio stream from user and transcribing it via ASR\n",
        "        user_question = simulate_asr(audio_stream_data=None)\n",
        "        # Log the captured question text\n",
        "        print(f\"User question captured: {user_question}\")\n",
        "        # Proceed to answer the question\n",
        "        state = \"answering\"\n",
        "\n",
        "    elif state == \"answering\":\n",
        "        # Use RAG backend to retrieve context and generate an answer\n",
        "        print(\"Retrieving relevant information from knowledge base...\")\n",
        "        context = retrieve_context(user_question, top_k=1)\n",
        "        if context:\n",
        "            print(\"Context found. Generating answer with LLM...\")\n",
        "            result = qa_pipeline({\"question\": user_question, \"context\": context})\n",
        "            bot_answer = result['answer']\n",
        "        else:\n",
        "            bot_answer = \"I'm sorry, I don't have information on that topic.\"\n",
        "        # Respond to the user via TTS\n",
        "        simulate_tts(bot_answer)\n",
        "        # After answering, move to lead qualification\n",
        "        state = \"lead_qualification\"\n",
        "\n",
        "    elif state == \"lead_qualification\":\n",
        "        # Simple lead qualification logic:\n",
        "        # If the user's question contains certain keywords (e.g., 'tenant'), treat it as a qualified lead.\n",
        "        if user_question and \"tenant\" in user_question.lower():\n",
        "            print(\"Lead Qualification: User's issue likely requires follow-up. Marking as qualified lead.\")\n",
        "            # Create a new lead in Zoho CRM\n",
        "            lead_data = {\"Name\": \"Unknown\", \"Phone\": caller_number, \"Query\": user_question}\n",
        "            lead_id = zoho_create_lead(lead_data)\n",
        "            # Update the lead status after the call\n",
        "            zoho_update_lead(lead_id, {\"Status\": \"Called\", \"CallOutcome\": \"Answered by bot\"})\n",
        "            # Trigger an outbound call to follow up (e.g., connecting to a human agent or scheduling a consultation)\n",
        "            twilio_outbound_call(caller_number)\n",
        "        else:\n",
        "            print(\"Lead Qualification: Issue did not meet criteria for a new lead. No follow-up will be triggered.\")\n",
        "        # End the call after qualification step\n",
        "        state = \"call_end\"\n",
        "\n",
        "    elif state == \"call_end\":\n",
        "        simulate_tts(\"Thank you for using LegalAssist. Goodbye!\")\n",
        "        twilio_end_call()\n",
        "        break\n"
      ],
      "metadata": {
        "colab": {
          "base_uri": "https://localhost:8080/"
        },
        "id": "qBvjjKFBUr46",
        "outputId": "e3c91eff-e1dc-4d87-cd0f-afd12cfb6cc5"
      },
      "execution_count": 10,
      "outputs": [
        {
          "output_type": "stream",
          "name": "stdout",
          "text": [
            "Twilio Event: Incoming call from +1-202-555-0136. Starting voice stream...\n",
            "[Bot Voice]: Hello, thank you for calling LegalAssist. How can I help you today?\n",
            "[Simulated ASR]: What can I do if my tenant refuses to pay rent?\n",
            "User question captured: What can I do if my tenant refuses to pay rent?\n",
            "Retrieving relevant information from knowledge base...\n",
            "Context found. Generating answer with LLM...\n",
            "[Bot Voice]: serve a notice to pay or quit\n",
            "Lead Qualification: User's issue likely requires follow-up. Marking as qualified lead.\n",
            "Zoho CRM API: Creating new lead with data: {'Name': 'Unknown', 'Phone': '+1-202-555-0136', 'Query': 'What can I do if my tenant refuses to pay rent?'}\n",
            "Zoho CRM API Response: {'status': 'success', 'lead_id': 'LEAD12345'}\n",
            "Zoho CRM API: Updating lead LEAD12345 with data: {'Status': 'Called', 'CallOutcome': 'Answered by bot'}\n",
            "Zoho CRM API Response: {'status': 'success', 'updated_fields': ['Status', 'CallOutcome']}\n",
            "Twilio Event: Initiating outbound call to +1-202-555-0136 for follow-up.\n",
            "[Bot Voice]: Thank you for using LegalAssist. Goodbye!\n",
            "Twilio Event: Call has ended.\n"
          ]
        }
      ]
    }
  ]
}